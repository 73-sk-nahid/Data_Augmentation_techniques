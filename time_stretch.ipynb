{
 "cells": [
  {
   "cell_type": "code",
   "execution_count": 35,
   "id": "985a72d2",
   "metadata": {},
   "outputs": [],
   "source": [
    "import random\n",
    "import librosa\n",
    "import numpy as np\n",
    "import soundfile as sf\n",
    "import librosa.display\n",
    "import matplotlib\n",
    "import matplotlib.pyplot as plt"
   ]
  },
  {
   "cell_type": "code",
   "execution_count": 36,
   "id": "77fc173a",
   "metadata": {},
   "outputs": [],
   "source": [
    "def time_stretch(signal, rate):\n",
    "    return librosa.effects.time_stretch(signal, rate=rate)"
   ]
  },
  {
   "cell_type": "code",
   "execution_count": 37,
   "id": "2fda4b9c",
   "metadata": {},
   "outputs": [],
   "source": [
    "import librosa.display\n",
    "import matplotlib.pyplot as plt\n",
    "def _plot_signal_and_augmented_signal(signal, augmented_signal, sr):\n",
    "    fig, ax = plt.subplots(nrows=2)\n",
    "    librosa.display.waveplot(signal, sr=sr, ax=ax[0])\n",
    "    ax[0].set(title=\"Original signal\")\n",
    "    librosa.display.waveplot(augmented_signal, sr=sr, ax=ax[1])\n",
    "    ax[1].set(title=\"Augmented signal\")\n",
    "    plt.show()"
   ]
  },
  {
   "cell_type": "code",
   "execution_count": 40,
   "id": "85efffff",
   "metadata": {},
   "outputs": [
    {
     "name": "stdout",
     "output_type": "stream",
     "text": [
      "Data saved in folder\n"
     ]
    }
   ],
   "source": [
    "if __name__ == \"__main__\":\n",
    "    signal, sr = librosa.load(\"D:/Actor_01/03-01-05-02-02-02-01.wav\")\n",
    "    augmented_signal = time_stretch(signal, rate=0.5)\n",
    "    sf.write(\"D:/Data Augmentation/time_stretch.wav\", augmented_signal, sr)\n",
    "    print(\"Data saved in folder\")\n",
    "    #_plot_signal_and_augmented_signal(signal, augmented_signal, sr)\n",
    "    #here are some problems in the plot"
   ]
  }
 ],
 "metadata": {
  "kernelspec": {
   "display_name": "Python 3 (ipykernel)",
   "language": "python",
   "name": "python3"
  },
  "language_info": {
   "codemirror_mode": {
    "name": "ipython",
    "version": 3
   },
   "file_extension": ".py",
   "mimetype": "text/x-python",
   "name": "python",
   "nbconvert_exporter": "python",
   "pygments_lexer": "ipython3",
   "version": "3.10.9"
  }
 },
 "nbformat": 4,
 "nbformat_minor": 5
}
